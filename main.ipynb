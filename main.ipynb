{
 "cells": [
  {
   "cell_type": "code",
   "execution_count": 1,
   "metadata": {},
   "outputs": [],
   "source": [
    "%run Word_Input.ipynb\n",
    "%run BERT_predict.ipynb\n",
    "%run Word_Output.ipynb"
   ]
  },
  {
   "cell_type": "markdown",
   "metadata": {},
   "source": [
    "# 資料輸入"
   ]
  },
  {
   "cell_type": "markdown",
   "metadata": {},
   "source": [
    "## Word轉BIO"
   ]
  },
  {
   "cell_type": "code",
   "execution_count": 2,
   "metadata": {},
   "outputs": [],
   "source": [
    "file_path_list, file_name_list = catch_word()"
   ]
  },
  {
   "cell_type": "code",
   "execution_count": 3,
   "metadata": {},
   "outputs": [
    {
     "data": {
      "text/plain": [
       "['new_data/input/職場防疫保單新聞內容.docx',\n",
       " 'new_data/input/醫療險新聞內容.docx',\n",
       " 'new_data/input/新冠肺炎保單_新聞內容.docx',\n",
       " 'new_data/input/中國人壽達美樂外幣利率變動型終身壽險（美元）_銷售條款(Final).docx',\n",
       " 'new_data/input/中國人壽好有利利率變動型終身壽險－定期給付型_保單條款(final)(更新)_1090610.docx',\n",
       " 'new_data/input/中國人壽新享富增利利率變動型終身壽險(定期給付型) - 銷售條款.docx',\n",
       " 'new_data/input/娛樂新聞內容.docx',\n",
       " 'new_data/input/中國人壽鑫美利外幣利率變動型終身壽險(美元)_銷售條款.docx',\n",
       " 'new_data/input/明星保險新聞內容.docx']"
      ]
     },
     "execution_count": 3,
     "metadata": {},
     "output_type": "execute_result"
    }
   ],
   "source": [
    "file_path_list"
   ]
  },
  {
   "cell_type": "code",
   "execution_count": 4,
   "metadata": {},
   "outputs": [
    {
     "name": "stdout",
     "output_type": "stream",
     "text": [
      "轉換完成：職場防疫保單新聞內容.bio\n",
      "\n",
      "轉換完成：醫療險新聞內容.bio\n",
      "\n",
      "轉換完成：新冠肺炎保單_新聞內容.bio\n",
      "\n",
      "轉換完成：中國人壽達美樂外幣利率變動型終身壽險（美元）_銷售條款(Final).bio\n",
      "\n",
      "轉換完成：中國人壽好有利利率變動型終身壽險－定期給付型_保單條款(final)(更新)_1090610.bio\n",
      "\n",
      "轉換完成：中國人壽新享富增利利率變動型終身壽險(定期給付型) - 銷售條款.bio\n",
      "\n",
      "轉換完成：娛樂新聞內容.bio\n",
      "\n",
      "轉換完成：中國人壽鑫美利外幣利率變動型終身壽險(美元)_銷售條款.bio\n",
      "\n",
      "轉換完成：明星保險新聞內容.bio\n",
      "\n",
      "----------資料全部轉換完成-----------\n"
     ]
    }
   ],
   "source": [
    "for file_path, file_name in zip(file_path_list, file_name_list):\n",
    "    word_to_bio(file_path, file_name)\n",
    "print(\"----------資料全部轉換完成-----------\")"
   ]
  },
  {
   "cell_type": "markdown",
   "metadata": {},
   "source": [
    "# 模型預測"
   ]
  },
  {
   "cell_type": "code",
   "execution_count": 5,
   "metadata": {
    "scrolled": true
   },
   "outputs": [
    {
     "name": "stdout",
     "output_type": "stream",
     "text": [
      "find files below:\n",
      "1 .  新冠肺炎保單_新聞內容.bio\n",
      "2 .  中國人壽達美樂外幣利率變動型終身壽險（美元）_銷售條款(Final).bio\n",
      "3 .  職場防疫保單新聞內容.bio\n",
      "4 .  明星保險新聞內容.bio\n",
      "5 .  醫療險新聞內容.bio\n",
      "6 .  中國人壽鑫美利外幣利率變動型終身壽險(美元)_銷售條款.bio\n",
      "7 .  娛樂新聞內容.bio\n",
      "8 .  中國人壽好有利利率變動型終身壽險－定期給付型_保單條款(final)(更新)_1090610.bio\n",
      "9 .  中國人壽新享富增利利率變動型終身壽險(定期給付型) - 銷售條款.bio\n",
      "\n",
      "Start to predict 新冠肺炎保單_新聞內容.bio!\n"
     ]
    },
    {
     "name": "stderr",
     "output_type": "stream",
     "text": [
      "Truncation was not explicitly activated but `max_length` is provided a specific value, please use `truncation=True` to explicitly truncate examples to max length. Defaulting to 'longest_first' truncation strategy. If you encode pairs of sequences (GLUE-style) with the tokenizer you can select this strategy more precisely by providing a specific strategy to `truncation`.\n"
     ]
    },
    {
     "name": "stdout",
     "output_type": "stream",
     "text": [
      "AI_新冠肺炎保單_新聞內容.bio is done!\n",
      "\n",
      "Start to predict 中國人壽達美樂外幣利率變動型終身壽險（美元）_銷售條款(Final).bio!\n"
     ]
    },
    {
     "name": "stderr",
     "output_type": "stream",
     "text": [
      "Truncation was not explicitly activated but `max_length` is provided a specific value, please use `truncation=True` to explicitly truncate examples to max length. Defaulting to 'longest_first' truncation strategy. If you encode pairs of sequences (GLUE-style) with the tokenizer you can select this strategy more precisely by providing a specific strategy to `truncation`.\n"
     ]
    },
    {
     "name": "stdout",
     "output_type": "stream",
     "text": [
      "AI_中國人壽達美樂外幣利率變動型終身壽險（美元）_銷售條款(Final).bio is done!\n",
      "\n",
      "Start to predict 職場防疫保單新聞內容.bio!\n"
     ]
    },
    {
     "name": "stderr",
     "output_type": "stream",
     "text": [
      "Truncation was not explicitly activated but `max_length` is provided a specific value, please use `truncation=True` to explicitly truncate examples to max length. Defaulting to 'longest_first' truncation strategy. If you encode pairs of sequences (GLUE-style) with the tokenizer you can select this strategy more precisely by providing a specific strategy to `truncation`.\n"
     ]
    },
    {
     "name": "stdout",
     "output_type": "stream",
     "text": [
      "AI_職場防疫保單新聞內容.bio is done!\n",
      "\n",
      "Start to predict 明星保險新聞內容.bio!\n"
     ]
    },
    {
     "name": "stderr",
     "output_type": "stream",
     "text": [
      "Truncation was not explicitly activated but `max_length` is provided a specific value, please use `truncation=True` to explicitly truncate examples to max length. Defaulting to 'longest_first' truncation strategy. If you encode pairs of sequences (GLUE-style) with the tokenizer you can select this strategy more precisely by providing a specific strategy to `truncation`.\n"
     ]
    },
    {
     "name": "stdout",
     "output_type": "stream",
     "text": [
      "AI_明星保險新聞內容.bio is done!\n",
      "\n",
      "Start to predict 醫療險新聞內容.bio!\n"
     ]
    },
    {
     "name": "stderr",
     "output_type": "stream",
     "text": [
      "Truncation was not explicitly activated but `max_length` is provided a specific value, please use `truncation=True` to explicitly truncate examples to max length. Defaulting to 'longest_first' truncation strategy. If you encode pairs of sequences (GLUE-style) with the tokenizer you can select this strategy more precisely by providing a specific strategy to `truncation`.\n"
     ]
    },
    {
     "name": "stdout",
     "output_type": "stream",
     "text": [
      "AI_醫療險新聞內容.bio is done!\n",
      "\n",
      "Start to predict 中國人壽鑫美利外幣利率變動型終身壽險(美元)_銷售條款.bio!\n"
     ]
    },
    {
     "name": "stderr",
     "output_type": "stream",
     "text": [
      "Truncation was not explicitly activated but `max_length` is provided a specific value, please use `truncation=True` to explicitly truncate examples to max length. Defaulting to 'longest_first' truncation strategy. If you encode pairs of sequences (GLUE-style) with the tokenizer you can select this strategy more precisely by providing a specific strategy to `truncation`.\n"
     ]
    },
    {
     "name": "stdout",
     "output_type": "stream",
     "text": [
      "AI_中國人壽鑫美利外幣利率變動型終身壽險(美元)_銷售條款.bio is done!\n",
      "\n",
      "Start to predict 娛樂新聞內容.bio!\n"
     ]
    },
    {
     "name": "stderr",
     "output_type": "stream",
     "text": [
      "Truncation was not explicitly activated but `max_length` is provided a specific value, please use `truncation=True` to explicitly truncate examples to max length. Defaulting to 'longest_first' truncation strategy. If you encode pairs of sequences (GLUE-style) with the tokenizer you can select this strategy more precisely by providing a specific strategy to `truncation`.\n"
     ]
    },
    {
     "name": "stdout",
     "output_type": "stream",
     "text": [
      "AI_娛樂新聞內容.bio is done!\n",
      "\n",
      "Start to predict 中國人壽好有利利率變動型終身壽險－定期給付型_保單條款(final)(更新)_1090610.bio!\n"
     ]
    },
    {
     "name": "stderr",
     "output_type": "stream",
     "text": [
      "Truncation was not explicitly activated but `max_length` is provided a specific value, please use `truncation=True` to explicitly truncate examples to max length. Defaulting to 'longest_first' truncation strategy. If you encode pairs of sequences (GLUE-style) with the tokenizer you can select this strategy more precisely by providing a specific strategy to `truncation`.\n"
     ]
    },
    {
     "name": "stdout",
     "output_type": "stream",
     "text": [
      "AI_中國人壽好有利利率變動型終身壽險－定期給付型_保單條款(final)(更新)_1090610.bio is done!\n",
      "\n",
      "Start to predict 中國人壽新享富增利利率變動型終身壽險(定期給付型) - 銷售條款.bio!\n"
     ]
    },
    {
     "name": "stderr",
     "output_type": "stream",
     "text": [
      "Truncation was not explicitly activated but `max_length` is provided a specific value, please use `truncation=True` to explicitly truncate examples to max length. Defaulting to 'longest_first' truncation strategy. If you encode pairs of sequences (GLUE-style) with the tokenizer you can select this strategy more precisely by providing a specific strategy to `truncation`.\n"
     ]
    },
    {
     "name": "stdout",
     "output_type": "stream",
     "text": [
      "AI_中國人壽新享富增利利率變動型終身壽險(定期給付型) - 銷售條款.bio is done!\n",
      "\n",
      "-----Finish-----\n"
     ]
    }
   ],
   "source": [
    "model = BertForTokenClassification.from_pretrained('./model_save/', output_attentions=True)\n",
    "assert model.config.output_attentions == True\n",
    "\n",
    "test_file_list = load_test_file()\n",
    "for test_file in test_file_list:\n",
    "    file_format = test_file.split(\".\")[-1]\n",
    "    if file_format == \"bio\":\n",
    "        print(\"\\nStart to predict %s!\" % test_file)\n",
    "\n",
    "        sentences, tokens = take_tokens_and_labels(test_file)\n",
    "\n",
    "        input_ids, attention_masks, tokenizer = retokenize(sentences)\n",
    "\n",
    "        prediction_dataloader = creat_dataloader(input_ids, attention_masks)\n",
    "\n",
    "        predictions = prediction(prediction_dataloader, model)\n",
    "\n",
    "        predicted_label_ids = flatten(predictions)\n",
    "\n",
    "        export_result(sentences, value_list, test_file, predicted_label_ids, key_list)\n",
    "\n",
    "        print(\"%s is done!\" % (\"AI_\"+test_file))\n",
    "    \n",
    "print(\"\\n-----Finish-----\")"
   ]
  },
  {
   "cell_type": "markdown",
   "metadata": {},
   "source": [
    "# 結果輸出(BIO轉Word)"
   ]
  },
  {
   "cell_type": "code",
   "execution_count": 6,
   "metadata": {},
   "outputs": [],
   "source": [
    "file_name_list, file_path_list = catch_bio()"
   ]
  },
  {
   "cell_type": "code",
   "execution_count": 7,
   "metadata": {},
   "outputs": [
    {
     "data": {
      "text/plain": [
       "['new_data/output/AI_中國人壽鑫美利外幣利率變動型終身壽險(美元)_銷售條款.bio',\n",
       " 'new_data/output/AI_娛樂新聞內容.bio',\n",
       " 'new_data/output/AI_中國人壽好有利利率變動型終身壽險－定期給付型_保單條款(final)(更新)_1090610.bio',\n",
       " 'new_data/output/AI_明星保險新聞內容.bio',\n",
       " 'new_data/output/AI_職場防疫保單新聞內容.bio',\n",
       " 'new_data/output/AI_醫療險新聞內容.bio',\n",
       " 'new_data/output/AI_中國人壽達美樂外幣利率變動型終身壽險（美元）_銷售條款(Final).bio',\n",
       " 'new_data/output/AI_中國人壽新享富增利利率變動型終身壽險(定期給付型) - 銷售條款.bio',\n",
       " 'new_data/output/AI_新冠肺炎保單_新聞內容.bio']"
      ]
     },
     "execution_count": 7,
     "metadata": {},
     "output_type": "execute_result"
    }
   ],
   "source": [
    "file_path_list"
   ]
  },
  {
   "cell_type": "code",
   "execution_count": 8,
   "metadata": {},
   "outputs": [
    {
     "name": "stdout",
     "output_type": "stream",
     "text": [
      "AI_中國人壽鑫美利外幣利率變動型終身壽險(美元)_銷售條款.docx 轉換完成\n",
      "AI_中國人壽鑫美利外幣利率變動型終身壽險(美元)_銷售條款(label).docx 轉換完成\n",
      "\n",
      "AI_娛樂新聞內容.docx 轉換完成\n",
      "AI_娛樂新聞內容(label).docx 轉換完成\n",
      "\n",
      "AI_中國人壽好有利利率變動型終身壽險－定期給付型_保單條款(final)(更新)_1090610.docx 轉換完成\n",
      "AI_中國人壽好有利利率變動型終身壽險－定期給付型_保單條款(final)(更新)_1090610(label).docx 轉換完成\n",
      "\n",
      "AI_明星保險新聞內容.docx 轉換完成\n",
      "AI_明星保險新聞內容(label).docx 轉換完成\n",
      "\n",
      "AI_職場防疫保單新聞內容.docx 轉換完成\n",
      "AI_職場防疫保單新聞內容(label).docx 轉換完成\n",
      "\n",
      "AI_醫療險新聞內容.docx 轉換完成\n",
      "AI_醫療險新聞內容(label).docx 轉換完成\n",
      "\n",
      "AI_中國人壽達美樂外幣利率變動型終身壽險（美元）_銷售條款(Final).docx 轉換完成\n",
      "AI_中國人壽達美樂外幣利率變動型終身壽險（美元）_銷售條款(Final)(label).docx 轉換完成\n",
      "\n",
      "AI_中國人壽新享富增利利率變動型終身壽險(定期給付型) - 銷售條款.docx 轉換完成\n",
      "AI_中國人壽新享富增利利率變動型終身壽險(定期給付型) - 銷售條款(label).docx 轉換完成\n",
      "\n",
      "AI_新冠肺炎保單_新聞內容.docx 轉換完成\n",
      "AI_新冠肺炎保單_新聞內容(label).docx 轉換完成\n",
      "\n",
      "----------資料全部轉換完成-----------\n"
     ]
    }
   ],
   "source": [
    "for file_path, file_name in zip(file_path_list, file_name_list):\n",
    "    list_data, word_data, bookmarks, hyperlinks, currency, benefit, parameter, rate, statistics = bio_to_word(file_path, file_name)\n",
    "print(\"----------資料全部轉換完成-----------\")"
   ]
  }
 ],
 "metadata": {
  "kernelspec": {
   "display_name": "Python 3",
   "language": "python",
   "name": "python3"
  },
  "language_info": {
   "codemirror_mode": {
    "name": "ipython",
    "version": 3
   },
   "file_extension": ".py",
   "mimetype": "text/x-python",
   "name": "python",
   "nbconvert_exporter": "python",
   "pygments_lexer": "ipython3",
   "version": "3.7.3"
  }
 },
 "nbformat": 4,
 "nbformat_minor": 2
}
