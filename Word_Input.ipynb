{
 "cells": [
  {
   "cell_type": "code",
   "execution_count": 1,
   "metadata": {},
   "outputs": [],
   "source": [
    "!pip install -q python-docx"
   ]
  },
  {
   "cell_type": "code",
   "execution_count": 2,
   "metadata": {},
   "outputs": [],
   "source": [
    "import os\n",
    "import re\n",
    "import docx\n",
    "from docx import Document\n",
    "from docx.document import Document as _Document\n",
    "from docx.oxml.text.paragraph import CT_P\n",
    "from docx.oxml.table import CT_Tbl\n",
    "from docx.table import _Cell, Table\n",
    "from docx.text.paragraph import Paragraph"
   ]
  },
  {
   "cell_type": "code",
   "execution_count": 3,
   "metadata": {},
   "outputs": [],
   "source": [
    "def iter_block_items(parent):\n",
    "    \"\"\"\n",
    "    Generate a reference to each paragraph and table child within *parent*,\n",
    "    in document order. Each returned value is an instance of either Table or\n",
    "    Paragraph. *parent* would most commonly be a reference to a main\n",
    "    Document object, but also works for a _Cell object, which itself can\n",
    "    contain paragraphs and tables.\n",
    "    \"\"\"\n",
    "    if isinstance(parent, _Document):\n",
    "        parent_elm = parent.element.body\n",
    "        # print(parent_elm.xml)\n",
    "    elif isinstance(parent, _Cell):\n",
    "        parent_elm = parent._tc\n",
    "    else:\n",
    "        raise ValueError(\"something's not right\")\n",
    "\n",
    "    for child in parent_elm.iterchildren():\n",
    "        if isinstance(child, CT_P):\n",
    "            yield Paragraph(child, parent)\n",
    "        elif isinstance(child, CT_Tbl):\n",
    "            yield Table(child, parent)"
   ]
  },
  {
   "cell_type": "code",
   "execution_count": 4,
   "metadata": {},
   "outputs": [],
   "source": [
    "# Python內建filter()函式 - 過濾list\n",
    "# filter()把傳入的函式依次作用於每個元素，然後根據返回值是True還是False決定保留還是丟棄該元素\n",
    "def not_empty(s):\n",
    "    return s and s.strip()"
   ]
  },
  {
   "cell_type": "code",
   "execution_count": 5,
   "metadata": {},
   "outputs": [],
   "source": [
    "# 儲存資料\n",
    "def save_file(file_name, line, check_new_save):\n",
    "    save_file_path = 'new_data/data_process/'\n",
    "    if not os.path.isdir(save_file_path):\n",
    "        os.mkdir(save_file_path)\n",
    "    \n",
    "    save_file_name = 'new_data/data_process/' + file_name + '.bio'\n",
    "    \n",
    "    if check_new_save == False:\n",
    "        text_file=open(save_file_name,'w',encoding=\"utf-8\")\n",
    "    else:\n",
    "        text_file=open(save_file_name,'a',encoding=\"utf-8\")\n",
    "    \n",
    "    for sen in line:\n",
    "        text_file.write(sen+'\\n')\n",
    "    text_file.write('\\n')\n",
    "    text_file.close()"
   ]
  },
  {
   "cell_type": "code",
   "execution_count": 6,
   "metadata": {},
   "outputs": [],
   "source": [
    "# 分割資料\n",
    "def split_part(line, next_line):\n",
    "    #抓取目前段落\"。\"前的字，並把\"。\"後的段落放入新段落\n",
    "    line_list = line.split(\"。\")\n",
    "    line_list = list(filter(not_empty, line_list))\n",
    "    output_line = \"\"\n",
    "    i = 0\n",
    "    for row in line_list:\n",
    "        if (i < len(line_list)-1):\n",
    "            output_line += (row + \"。\")\n",
    "            i += 1\n",
    "\n",
    "    new_line = line_list[-1] + next_line\n",
    "    return output_line, new_line"
   ]
  },
  {
   "cell_type": "code",
   "execution_count": 7,
   "metadata": {},
   "outputs": [],
   "source": [
    "def word_to_bio(file_path, file_name):\n",
    "    #print(\"開始轉換：\"+file_name+\".docx\")\n",
    "    doc = docx.Document(file_path)\n",
    "    #print(\"檔案內含段落數：\",len(doc.paragraphs),\"\\n\")\n",
    "\n",
    "    # 抓取Word資料\n",
    "    word_text_list = list()\n",
    "    for block in iter_block_items(doc):\n",
    "        if isinstance(block, Paragraph):\n",
    "            word_text_list.append(block.text)\n",
    "        else:\n",
    "            for row in block.rows:\n",
    "                for cell in row.cells:\n",
    "                    word_text_list.append(cell.text)\n",
    "\n",
    "    # 整理Word資料(去除\\n)\n",
    "    text_list = list()\n",
    "    for text in word_text_list:\n",
    "        text = text.split(\"\\n\")\n",
    "        text = list(filter(not_empty, text))\n",
    "        text_list.extend(text)\n",
    "    \n",
    "    # 分割段落\n",
    "    str_line = \"\"\n",
    "    str_list = list()\n",
    "    for line in text_list:\n",
    "        line = line.strip()\n",
    "        line = line.replace(\"\\n\", \"\")\n",
    "        if line != \"\":\n",
    "            find_title = re.match('【[\\W\\w\\S\\s]+】', line)\n",
    "            if find_title:\n",
    "                find_footer = re.match('【[A-Za-z0-9\\s]+】', line)\n",
    "                #if not find_footer and len(str_line) <= 500:\n",
    "                if not find_footer:\n",
    "                    str_list.append(str_line)\n",
    "                    str_line = line\n",
    "            else:\n",
    "                if ((len(str_line)+len(line)) > 500):\n",
    "                    output_line, new_line = split_part(str_line, line)\n",
    "                    if output_line != '':\n",
    "                        str_list.append(output_line)\n",
    "                    str_line = new_line\n",
    "                else:\n",
    "                    str_line += line\n",
    "    str_list.append(str_line)\n",
    "                    \n",
    "    # 儲存到bio檔\n",
    "    check_new_save = False\n",
    "    for line in str_list:\n",
    "        save_file(file_name, line, check_new_save)\n",
    "        check_new_save = True\n",
    "    \n",
    "    print(\"轉換完成：\"+file_name + \".bio\\n\")"
   ]
  },
  {
   "cell_type": "code",
   "execution_count": 8,
   "metadata": {},
   "outputs": [],
   "source": [
    "def catch_word():\n",
    "    # 抓取目錄所有資料\n",
    "    file_list = list()\n",
    "    for root, dirs, files in os.walk(\"new_data/input\"):\n",
    "        file_list = files\n",
    "        break\n",
    "\n",
    "    # 抓取檔案為Word(docx)檔，並建立路徑\n",
    "    file_path_list = list()\n",
    "    file_name_list = list()\n",
    "    for file in file_list:\n",
    "        if file.split(\".\")[-1] == \"docx\":\n",
    "            file_path_list.append(\"new_data/input/\"+file)\n",
    "            file_name_list.append(file.split(\".\")[0])\n",
    "    \n",
    "    return file_path_list, file_name_list"
   ]
  },
  {
   "cell_type": "code",
   "execution_count": 9,
   "metadata": {},
   "outputs": [],
   "source": [
    "# file_path_list, file_name_list = catch_word()"
   ]
  },
  {
   "cell_type": "code",
   "execution_count": 12,
   "metadata": {},
   "outputs": [],
   "source": [
    "# for file_path, file_name in zip(file_path_list, file_name_list):\n",
    "#     word_to_bio(file_path, file_name)\n",
    "# print(\"----------資料全部轉換完成-----------\")"
   ]
  },
  {
   "cell_type": "code",
   "execution_count": null,
   "metadata": {},
   "outputs": [],
   "source": []
  }
 ],
 "metadata": {
  "kernelspec": {
   "display_name": "Python 3",
   "language": "python",
   "name": "python3"
  },
  "language_info": {
   "codemirror_mode": {
    "name": "ipython",
    "version": 3
   },
   "file_extension": ".py",
   "mimetype": "text/x-python",
   "name": "python",
   "nbconvert_exporter": "python",
   "pygments_lexer": "ipython3",
   "version": "3.7.3"
  }
 },
 "nbformat": 4,
 "nbformat_minor": 4
}
